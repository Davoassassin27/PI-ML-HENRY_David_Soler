{
 "cells": [
  {
   "cell_type": "code",
   "execution_count": 1,
   "metadata": {},
   "outputs": [],
   "source": [
    "import pandas as pd\n",
    "import numpy as np\n",
    "import ast\n",
    "from datetime import datetime\n",
    "import locale"
   ]
  },
  {
   "cell_type": "code",
   "execution_count": 2,
   "metadata": {},
   "outputs": [],
   "source": [
    "df = pd.read_csv(\"dataset/movies_dataset.csv\",low_memory=False)"
   ]
  },
  {
   "cell_type": "code",
   "execution_count": 3,
   "metadata": {},
   "outputs": [],
   "source": [
    "\n",
    "def fetch_name(obj): \n",
    "    if isinstance(obj, str) and '{' in obj:\n",
    "        L = []\n",
    "        for i in ast.literal_eval(obj):\n",
    "            L.append(i['name'])\n",
    "        return L"
   ]
  },
  {
   "cell_type": "code",
   "execution_count": 4,
   "metadata": {},
   "outputs": [],
   "source": [
    "def fetch_name_2(obj): \n",
    "    if isinstance(obj, str) and '{' in obj:\n",
    "        dic = ast.literal_eval(obj)\n",
    "        return dic['name']"
   ]
  },
  {
   "cell_type": "code",
   "execution_count": 5,
   "metadata": {},
   "outputs": [],
   "source": [
    "df[\"genres\"] = df[\"genres\"].apply(fetch_name)\n",
    "df[\"belongs_to_collection\"] = df[\"belongs_to_collection\"].apply(fetch_name_2)\n",
    "df[\"production_companies\"]  = df[\"production_companies\"].apply(fetch_name)\n",
    "df[\"production_countries\"]  = df[\"production_countries\"].apply(fetch_name)\n",
    "df[\"spoken_languages\"] = df[\"spoken_languages\"].apply(fetch_name)"
   ]
  },
  {
   "cell_type": "code",
   "execution_count": 6,
   "metadata": {},
   "outputs": [],
   "source": [
    "fechas_datetime = pd.to_datetime(df[\"release_date\"], format='%Y-%m-%d', errors = 'coerce')\n",
    "df ['release_date'] = fechas_datetime.dropna()\n"
   ]
  },
  {
   "cell_type": "code",
   "execution_count": 7,
   "metadata": {},
   "outputs": [],
   "source": [
    "quitar_null = df[df[\"release_date\"].isnull()]\n",
    "df = df.drop(labels= quitar_null.index, axis=0)"
   ]
  },
  {
   "cell_type": "code",
   "execution_count": 8,
   "metadata": {},
   "outputs": [],
   "source": [
    "\n",
    "df[\"revenue\"] = pd.to_numeric(df[\"revenue\"], errors=\"coerce\")\n",
    "df[\"budget\"] = pd.to_numeric(df[\"budget\"], errors=\"coerce\")\n",
    "df[\"return\"] = df[\"revenue\"] / df[\"budget\"]\n",
    "df[\"return\"] = df[\"return\"].replace([np.inf, -np.inf], np.nan)\n",
    "df[\"return\"] = df[\"return\"].fillna(0)\n",
    "df[\"return\"] = df[\"return\"].round(2)\n"
   ]
  },
  {
   "cell_type": "code",
   "execution_count": 9,
   "metadata": {},
   "outputs": [],
   "source": [
    "df[\"revenue\"].fillna(\"0\",inplace=True)\n",
    "df[\"budget\"].fillna(\"0\",inplace=True)"
   ]
  },
  {
   "cell_type": "code",
   "execution_count": 10,
   "metadata": {},
   "outputs": [],
   "source": [
    "df.drop(\"video\",axis=\"columns\",inplace=True)\n",
    "df.drop(\"imdb_id\",axis=\"columns\",inplace=True)\n",
    "df.drop(\"adult\",axis=\"columns\",inplace=True)\n",
    "df.drop(\"original_title\",axis=\"columns\",inplace=True)\n",
    "df.drop(\"vote_count\",axis=\"columns\",inplace=True)\n",
    "df.drop(\"poster_path\",axis=\"columns\",inplace=True)\n",
    "df.drop(\"homepage\",axis=\"columns\",inplace=True)"
   ]
  },
  {
   "cell_type": "code",
   "execution_count": 11,
   "metadata": {},
   "outputs": [],
   "source": [
    "df[\"month_name\"] = df[\"release_date\"].dt.month_name(locale.setlocale(locale.LC_TIME, 'es_ES'))\n",
    "df[\"day_name\"] = df[\"release_date\"].dt.day_name(locale.setlocale(locale.LC_TIME, 'es_ES'))"
   ]
  },
  {
   "cell_type": "code",
   "execution_count": 12,
   "metadata": {},
   "outputs": [],
   "source": [
    "def peliculas_mes(mes):\n",
    "    aux = df.groupby(\"month_name\").size()\n",
    "    respuesta = aux [mes]\n",
    "\n",
    "    return {'mes':mes, 'cantidad':respuesta}"
   ]
  },
  {
   "cell_type": "code",
   "execution_count": 13,
   "metadata": {},
   "outputs": [],
   "source": [
    "def peliculas_dia(dia):\n",
    "    aux = df.groupby(\"day_name\").size()\n",
    "    respuesta = aux [dia]\n",
    "    return {'dia':dia, 'cantidad':respuesta}"
   ]
  },
  {
   "cell_type": "code",
   "execution_count": 14,
   "metadata": {},
   "outputs": [],
   "source": [
    "def franquicia(franquicia):\n",
    "    aux = df.groupby(\"belongs_to_collection\").size()\n",
    "    cantidad = aux [franquicia]\n",
    "    ganancia = df.query(\"belongs_to_collection == @franquicia\")['revenue'].sum()\n",
    "    promedio = df.query(\"belongs_to_collection == @franquicia\")['revenue'].mean()\n",
    "    return {'franquicia':franquicia, 'cantidad de peliculas':cantidad, 'ganancia_total':ganancia, 'ganancia_promedio':promedio}"
   ]
  },
  {
   "cell_type": "code",
   "execution_count": 15,
   "metadata": {},
   "outputs": [],
   "source": [
    "def peliculas_pais(pais):\n",
    "    df[\"production_countries\"] = df[\"production_countries\"].fillna(\"\")\n",
    "    df_filtrado = df[df['production_countries'].apply(lambda x: pais in str(x))]\n",
    "    cantidad_peliculas = len(df_filtrado)\n",
    "    return {'pais':pais, 'cantidad':cantidad_peliculas}"
   ]
  },
  {
   "cell_type": "code",
   "execution_count": 16,
   "metadata": {},
   "outputs": [],
   "source": [
    "def productoras(productora):\n",
    "    df_filtrado = df[df['production_companies'].apply(lambda x: productora in str(x))]\n",
    "    cantidad = len(df_filtrado)\n",
    "    ganancia= df_filtrado[\"revenue\"].sum()\n",
    "    return {'productora':productora, 'ganancia_total':ganancia, 'cantidad':cantidad}"
   ]
  },
  {
   "cell_type": "code",
   "execution_count": 17,
   "metadata": {},
   "outputs": [],
   "source": [
    "def retorno(pelicula):\n",
    "    df_filtrado = df[df['title'].apply(lambda x: pelicula.strip() == str(x).strip())]\n",
    "    inversion= df_filtrado[\"budget\"].sum()\n",
    "    ganancia= df_filtrado[\"revenue\"].sum()\n",
    "    retorno= df_filtrado[\"return\"].sum()\n",
    "    anio = df_filtrado[\"release_date\"]\n",
    "    return {'pelicula':pelicula, 'inversion':inversion, 'ganacia':ganancia,'retorno':retorno, 'anio':anio}"
   ]
  },
  {
   "cell_type": "code",
   "execution_count": 18,
   "metadata": {},
   "outputs": [],
   "source": [
    "# df.to_csv(\"dataset_cleaned.csv\", index=False)"
   ]
  }
 ],
 "metadata": {
  "kernelspec": {
   "display_name": "Python 3",
   "language": "python",
   "name": "python3"
  },
  "language_info": {
   "codemirror_mode": {
    "name": "ipython",
    "version": 3
   },
   "file_extension": ".py",
   "mimetype": "text/x-python",
   "name": "python",
   "nbconvert_exporter": "python",
   "pygments_lexer": "ipython3",
   "version": "3.11.1"
  },
  "orig_nbformat": 4
 },
 "nbformat": 4,
 "nbformat_minor": 2
}
