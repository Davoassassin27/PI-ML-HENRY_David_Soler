{
 "cells": [
  {
   "cell_type": "code",
   "execution_count": null,
   "metadata": {},
   "outputs": [],
   "source": [
    "# ML\n",
    "import pandas as pd\n",
    "from sklearn.metrics.pairwise import cosine_similarity\n",
    "from sklearn.cluster import KMeans\n",
    "\n",
    "data = pd.read_csv('dataset/dataset_ML.csv') \n",
    "\n",
    "X = data[['belongs_to_collection', 'genres', 'original_language', \"popularity\", \"production_companies\", \"release_date\", \"runtime\", \"status\", \"vote_average\", \"return\"]]  \n",
    "\n",
    "similarity_matrix = cosine_similarity(X)\n",
    "\n"
   ]
  },
  {
   "cell_type": "code",
   "execution_count": null,
   "metadata": {},
   "outputs": [],
   "source": [
    "# Creación de la función de recomendación\n",
    "def get_recommendations(movie_name, top_n=5):\n",
    "    movie_index = data[data['title'] == movie_name].index[0] \n",
    "    movie_similarities = similarity_matrix[movie_index]\n",
    "    top_indices = movie_similarities.argsort()[-top_n-1:-1][::-1]  \n",
    "    recommendations = data.loc[top_indices,\"title\"] \n",
    "    return recommendations[\"title\"]"
   ]
  },
  {
   "cell_type": "code",
   "execution_count": null,
   "metadata": {},
   "outputs": [],
   "source": [
    "# usar una variable para el parametro de entrara\n",
    "movie_name = \"Toy Story\" \n",
    "recommendations = get_recommendations(movie_name)\n",
    "print(recommendations)"
   ]
  },
  {
   "cell_type": "code",
   "execution_count": null,
   "metadata": {},
   "outputs": [],
   "source": [
    "# prueba de la función\n",
    "get_recommendations(\"Return of the Jedi\")\n"
   ]
  },
  {
   "attachments": {},
   "cell_type": "markdown",
   "metadata": {},
   "source": [
    "# Algunos intentos que no dieron..."
   ]
  },
  {
   "cell_type": "code",
   "execution_count": null,
   "metadata": {},
   "outputs": [],
   "source": [
    "# import pandas as pd\n",
    "# from sklearn.ensemble import RandomForestClassifier\n",
    "# from sklearn.model_selection import train_test_split\n",
    "# from sklearn.metrics import accuracy_score\n",
    "# from sklearn.cluster import KMeans\n",
    "\n",
    "\n",
    "# data = pd.read_csv('dataset/dataset_ML.csv')\n",
    "# n=2000\n",
    "# data_subset = data.head(n)\n",
    "# X = data_subset[['belongs_to_collection', 'genres', 'original_language', \"popularity\", \"production_companies\", \"release_date\", \"runtime\", \"status\", \"vote_average\", \"return\"]]\n",
    "# y = data_subset['title'] \n",
    "# X_train, X_test, y_train, y_test = train_test_split(X, y, test_size=0.2, random_state=42)\n",
    "\n",
    "# K-means\n",
    "\n",
    "# model = KMeans(n_clusters=5) \n",
    "# model.fit(X)\n",
    "# similarity_matrix = model.transform(X)\n",
    "# model.fit(X_train, y_train)\n",
    "# y_pred = model.predict(X_test)\n",
    "# accuracy = accuracy_score(y_test, y_pred)\n",
    "# print(\"Precisión del modelo:\", accuracy)"
   ]
  },
  {
   "cell_type": "code",
   "execution_count": null,
   "metadata": {},
   "outputs": [],
   "source": [
    "# import pandas as pd\n",
    "# from sklearn.feature_extraction.text import TfidfVectorizer\n",
    "# from sklearn.svm import SVC\n",
    "# from sklearn.metrics import accuracy_score, average_precision_score, f1_score\n",
    "\n",
    "\n",
    "# data = pd.read_csv('dataset/dataset_ML.csv.csv') \n",
    "\n",
    "\n",
    "# preprocessed_data = data['belongs_to_collection', 'genres', 'original_language', \"popularity\", \"production_companies\", \"release_date\", \"runtime\", \"status\", \"vote_average\", \"return\"] \n",
    "# vectorizer = TfidfVectorizer()  \n",
    "# X = vectorizer.fit_transform(preprocessed_data)\n",
    "# y = data['belongs_to_collection', 'genres', 'original_language', \"popularity\", \"production_companies\", \"release_date\", \"runtime\", \"status\", \"vote_average\", \"return\"] \n",
    "# model = SVC()  \n",
    "# model.fit(X, y) \n",
    "# new_data = data[['belongs_to_collection', 'genres', 'original_language', \"popularity\", \"production_companies\", \"release_date\", \"runtime\", \"status\", \"vote_average\", \"return\"]]  \n",
    "# X_new = vectorizer.transform(new_data) \n",
    "# y_pred = model.predict(X_new) \n",
    "# accuracy = accuracy_score(true_labels, y_pred) \n",
    "# average_precision = average_precision_score(true_labels, y_score)\n",
    "# mean_average_precision = average_precision.mean()\n",
    "# f1 = f1_score(true_labels, y_pred)\n",
    "# print(\"Precisión:\", accuracy)\n"
   ]
  }
 ],
 "metadata": {
  "kernelspec": {
   "display_name": "Python 3",
   "language": "python",
   "name": "python3"
  },
  "language_info": {
   "codemirror_mode": {
    "name": "ipython",
    "version": 3
   },
   "file_extension": ".py",
   "mimetype": "text/x-python",
   "name": "python",
   "nbconvert_exporter": "python",
   "pygments_lexer": "ipython3",
   "version": "3.11.1"
  },
  "orig_nbformat": 4
 },
 "nbformat": 4,
 "nbformat_minor": 2
}
