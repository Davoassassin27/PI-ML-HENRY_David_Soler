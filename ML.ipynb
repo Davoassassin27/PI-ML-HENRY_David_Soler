{
 "cells": [
  {
   "cell_type": "code",
   "execution_count": 10,
   "metadata": {},
   "outputs": [],
   "source": [
    "import pandas as pd\n",
    "from sklearn.metrics.pairwise import cosine_similarity\n",
    "from sklearn.cluster import KMeans\n",
    "\n",
    "data = pd.read_csv('dataset/dataset_ML.csv') \n",
    "\n",
    "X = data[['belongs_to_collection', 'genres', 'original_language', \"popularity\", \"production_companies\", \"release_date\", \"runtime\", \"status\", \"vote_average\", \"return\"]]  \n",
    "\n",
    "similarity_matrix = cosine_similarity(X)\n",
    "\n",
    "# K-means\n",
    "# model = KMeans(n_clusters=5) \n",
    "# model.fit(X)\n",
    "# similarity_matrix = model.transform(X)\n",
    "\n",
    "def get_recommendations(movie_name, top_n=5):\n",
    "    movie_index = data[data['title'] == movie_name].index[0] \n",
    "    movie_similarities = similarity_matrix[movie_index]\n",
    "    top_indices = movie_similarities.argsort()[-top_n-1:-1][::-1]  \n",
    "    recommendations = data.loc[top_indices,\"title\"] \n",
    "    return recommendations[\"title\"]\n",
    "\n"
   ]
  },
  {
   "cell_type": "code",
   "execution_count": 37,
   "metadata": {},
   "outputs": [
    {
     "name": "stdout",
     "output_type": "stream",
     "text": [
      "2995                          Toy Story 2\n",
      "20544    The Trial of the Incredible Hulk\n",
      "24838             The Brides of Fu Manchu\n",
      "3642      Braddock: Missing in Action III\n",
      "8843                   The Ewok Adventure\n",
      "Name: title, dtype: object\n"
     ]
    }
   ],
   "source": [
    "# Paso 5: Obtener las recomendaciones para una película específica\n",
    "movie_name = \"Toy Story\"  # Reemplaza con el nombre de la película para la que deseas obtener recomendaciones\n",
    "recommendations = get_recommendations(movie_name)\n",
    "print(recommendations)"
   ]
  },
  {
   "cell_type": "code",
   "execution_count": 38,
   "metadata": {},
   "outputs": [
    {
     "data": {
      "text/plain": [
       "2512       Star Wars: Episode I - The Phantom Menace\n",
       "1152                         The Empire Strikes Back\n",
       "5240    Star Wars: Episode II - Attack of the Clones\n",
       "4235                         Lara Croft: Tomb Raider\n",
       "256                                        Star Wars\n",
       "Name: title, dtype: object"
      ]
     },
     "execution_count": 38,
     "metadata": {},
     "output_type": "execute_result"
    }
   ],
   "source": [
    "get_recommendations(\"Return of the Jedi\")\n"
   ]
  },
  {
   "cell_type": "code",
   "execution_count": 9,
   "metadata": {},
   "outputs": [
    {
     "name": "stdout",
     "output_type": "stream",
     "text": [
      "Precisión del modelo: 0.0\n"
     ]
    },
    {
     "name": "stderr",
     "output_type": "stream",
     "text": [
      "c:\\Users\\Davo\\AppData\\Local\\Programs\\Python\\Python311\\Lib\\site-packages\\sklearn\\cluster\\_kmeans.py:870: FutureWarning: The default value of `n_init` will change from 10 to 'auto' in 1.4. Set the value of `n_init` explicitly to suppress the warning\n",
      "  warnings.warn(\n",
      "c:\\Users\\Davo\\AppData\\Local\\Programs\\Python\\Python311\\Lib\\site-packages\\sklearn\\cluster\\_kmeans.py:870: FutureWarning: The default value of `n_init` will change from 10 to 'auto' in 1.4. Set the value of `n_init` explicitly to suppress the warning\n",
      "  warnings.warn(\n"
     ]
    }
   ],
   "source": [
    "# import pandas as pd\n",
    "# from sklearn.ensemble import RandomForestClassifier\n",
    "# from sklearn.model_selection import train_test_split\n",
    "# from sklearn.metrics import accuracy_score\n",
    "# from sklearn.cluster import KMeans\n",
    "\n",
    "# # Cargar los datos\n",
    "# data = pd.read_csv('dataset/dataset_ML.csv')\n",
    "# n=2000\n",
    "# data_subset = data.head(n)\n",
    "# X = data_subset[['belongs_to_collection', 'genres', 'original_language', \"popularity\", \"production_companies\", \"release_date\", \"runtime\", \"status\", \"vote_average\", \"return\"]]\n",
    "# y = data_subset['title']  # Reemplaza 'target_variable' con la columna que deseas predecir\n",
    "\n",
    "# # Dividir los datos en conjunto de entrenamiento y conjunto de prueba\n",
    "# X_train, X_test, y_train, y_test = train_test_split(X, y, test_size=0.2, random_state=42)\n",
    "\n",
    "# # Crear y entrenar el modelo\n",
    "# # K-means\n",
    "# model = KMeans(n_clusters=5) \n",
    "# model.fit(X)\n",
    "# similarity_matrix = model.transform(X)\n",
    "# model.fit(X_train, y_train)\n",
    "\n",
    "# # Realizar predicciones en el conjunto de prueba\n",
    "# y_pred = model.predict(X_test)\n",
    "\n",
    "# # Calcular la precisión del modelo\n",
    "# accuracy = accuracy_score(y_test, y_pred)\n",
    "# print(\"Precisión del modelo:\", accuracy)"
   ]
  },
  {
   "cell_type": "code",
   "execution_count": null,
   "metadata": {},
   "outputs": [],
   "source": [
    "# import pandas as pd\n",
    "# from sklearn.feature_extraction.text import TfidfVectorizer\n",
    "# from sklearn.svm import SVC\n",
    "# from sklearn.metrics import accuracy_score, average_precision_score, f1_score\n",
    "\n",
    "# # Paso 1: Cargar los datos\n",
    "# data = pd.read_csv('dataset/dataset_ML.csv.csv')  # Reemplaza 'datos.csv' con el nombre de tu archivo de datos\n",
    "\n",
    "# # Paso 2: Preprocesamiento de datos y extracción de características\n",
    "# preprocessed_data = data['belongs_to_collection', 'genres', 'original_language', \"popularity\", \"production_companies\", \"release_date\", \"runtime\", \"status\", \"vote_average\", \"return\"] # Aplica el preprocesamiento necesario a los datos de contenido\n",
    "# vectorizer = TfidfVectorizer()  # Utiliza TF-IDF para extraer características del texto\n",
    "# X = vectorizer.fit_transform(preprocessed_data)  # Representa los datos de contenido como características numéricas\n",
    "# y = data['belongs_to_collection', 'genres', 'original_language', \"popularity\", \"production_companies\", \"release_date\", \"runtime\", \"status\", \"vote_average\", \"return\"]  # Columna que contiene las etiquetas o categorías\n",
    "\n",
    "# # Paso 3: Construcción del modelo y entrenamiento\n",
    "# model = SVC()  # Por ejemplo, utiliza un clasificador de SVM\n",
    "# model.fit(X, y)  # Entrena el modelo con los datos de contenido y las etiquetas asociadas\n",
    "\n",
    "# # Paso 4: Hacer predicciones\n",
    "# new_data = data[['belongs_to_collection', 'genres', 'original_language', \"popularity\", \"production_companies\", \"release_date\", \"runtime\", \"status\", \"vote_average\", \"return\"]]  # Preprocesa los nuevos datos de contenido\n",
    "# X_new = vectorizer.transform(new_data)  # Representa los nuevos datos como características numéricas\n",
    "# y_pred = model.predict(X_new)  # Realiza predicciones utilizando el modelo entrenado\n",
    "\n",
    "# # Paso 5: Evaluación del modelo\n",
    "# accuracy = accuracy_score(true_labels, y_pred)  # Compara las etiquetas verdaderas con las predicciones del modelo\n",
    "# average_precision = average_precision_score(true_labels, y_score)\n",
    "# mean_average_precision = average_precision.mean()\n",
    "# f1 = f1_score(true_labels, y_pred)\n",
    "\n",
    "# # Imprimir las métricas\n",
    "# print(\"Precisión:\", accuracy)\n"
   ]
  }
 ],
 "metadata": {
  "kernelspec": {
   "display_name": "Python 3",
   "language": "python",
   "name": "python3"
  },
  "language_info": {
   "codemirror_mode": {
    "name": "ipython",
    "version": 3
   },
   "file_extension": ".py",
   "mimetype": "text/x-python",
   "name": "python",
   "nbconvert_exporter": "python",
   "pygments_lexer": "ipython3",
   "version": "3.11.1"
  },
  "orig_nbformat": 4
 },
 "nbformat": 4,
 "nbformat_minor": 2
}
