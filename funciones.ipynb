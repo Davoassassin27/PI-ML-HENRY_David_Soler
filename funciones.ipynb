{
 "cells": [
  {
   "attachments": {},
   "cell_type": "markdown",
   "metadata": {},
   "source": [
    "**Aqui estan todas las funciones del proyecto por separado**"
   ]
  },
  {
   "cell_type": "code",
   "execution_count": 1,
   "metadata": {},
   "outputs": [],
   "source": [
    "import pandas as pd\n",
    "import numpy as np\n",
    "import ast\n",
    "from datetime import datetime\n",
    "import locale\n",
    "from sklearn.metrics.pairwise import cosine_similarity"
   ]
  },
  {
   "cell_type": "code",
   "execution_count": 2,
   "metadata": {},
   "outputs": [],
   "source": [
    "df = pd.read_csv(\"dataset/dataset_cleaned.csv\",low_memory=False)\n",
    "data = pd.read_csv('dataset/dataset_ML.csv', low_memory=False) "
   ]
  },
  {
   "cell_type": "code",
   "execution_count": 3,
   "metadata": {},
   "outputs": [],
   "source": [
    "def peliculas_mes(mes):\n",
    "    aux = df.groupby(\"month_name\").size()\n",
    "    respuesta = aux [mes]\n",
    "\n",
    "    return {'mes':mes, 'cantidad':respuesta}"
   ]
  },
  {
   "cell_type": "code",
   "execution_count": 4,
   "metadata": {},
   "outputs": [],
   "source": [
    "def peliculas_dia(dia):\n",
    "    aux = df.groupby(\"day_name\").size()\n",
    "    respuesta = aux [dia]\n",
    "    return {'dia':dia, 'cantidad':respuesta}"
   ]
  },
  {
   "cell_type": "code",
   "execution_count": 5,
   "metadata": {},
   "outputs": [],
   "source": [
    "def franquicia(franquicia):\n",
    "    aux = df.groupby(\"belongs_to_collection\").size()\n",
    "    cantidad = aux [franquicia]\n",
    "    ganancia = df.query(\"belongs_to_collection == @franquicia\")['revenue'].sum()\n",
    "    promedio = df.query(\"belongs_to_collection == @franquicia\")['revenue'].mean()\n",
    "    return {'franquicia':franquicia, 'cantidad de peliculas':cantidad, 'ganancia_total':ganancia, 'ganancia_promedio':promedio}"
   ]
  },
  {
   "cell_type": "code",
   "execution_count": 6,
   "metadata": {},
   "outputs": [],
   "source": [
    "def peliculas_pais(pais):\n",
    "    df[\"production_countries\"] = df[\"production_countries\"].fillna(\"\")\n",
    "    df_filtrado = df[df['production_countries'].apply(lambda x: pais in str(x))]\n",
    "    cantidad_peliculas = len(df_filtrado)\n",
    "    return {'pais':pais, 'cantidad':cantidad_peliculas}"
   ]
  },
  {
   "cell_type": "code",
   "execution_count": 7,
   "metadata": {},
   "outputs": [],
   "source": [
    "def productoras(productora):\n",
    "    df_filtrado = df[df['production_companies'].apply(lambda x: productora in str(x))]\n",
    "    cantidad = len(df_filtrado)\n",
    "    ganancia= df_filtrado[\"revenue\"].sum()\n",
    "    return {'productora':productora, 'ganancia_total':ganancia, 'cantidad':cantidad}"
   ]
  },
  {
   "cell_type": "code",
   "execution_count": 8,
   "metadata": {},
   "outputs": [],
   "source": [
    "def retorno(pelicula):\n",
    "    df_filtrado = df[df['title'].apply(lambda x: pelicula.strip() == str(x).strip())]\n",
    "    inversion= df_filtrado[\"budget\"].sum()\n",
    "    ganancia= df_filtrado[\"revenue\"].sum()\n",
    "    retorno= df_filtrado[\"return\"].sum()\n",
    "    anio = df_filtrado[\"release_date\"]\n",
    "    return {'pelicula':pelicula, 'inversion':inversion, 'ganacia':ganancia,'retorno':retorno, 'anio':anio}"
   ]
  },
  {
   "cell_type": "code",
   "execution_count": null,
   "metadata": {},
   "outputs": [],
   "source": [
    "# FUNCIÓN DEL Ml\n",
    "def get_recommendations(movie_name, top_n=5):\n",
    "    top_n = 5\n",
    "    n = 5000\n",
    "    data_subset = data.head(n)\n",
    "    X = data_subset[['belongs_to_collection', 'genres', 'original_language', \"popularity\", \"production_companies\", \"release_date\", \"runtime\", \"status\", \"vote_average\", \"return\"]]  \n",
    "    similarity_matrix = cosine_similarity(X)\n",
    "    movie_index = data[data['title'] == movie_name].index[0] \n",
    "    movie_similarities = similarity_matrix[movie_index]\n",
    "    top_indices = movie_similarities.argsort()[-top_n-1:-1][::-1]  \n",
    "    recommendations = data.loc[top_indices,\"title\"] \n",
    "    return recommendations[\"title\"]"
   ]
  }
 ],
 "metadata": {
  "kernelspec": {
   "display_name": "Python 3",
   "language": "python",
   "name": "python3"
  },
  "language_info": {
   "codemirror_mode": {
    "name": "ipython",
    "version": 3
   },
   "file_extension": ".py",
   "mimetype": "text/x-python",
   "name": "python",
   "nbconvert_exporter": "python",
   "pygments_lexer": "ipython3",
   "version": "3.11.1"
  },
  "orig_nbformat": 4
 },
 "nbformat": 4,
 "nbformat_minor": 2
}
